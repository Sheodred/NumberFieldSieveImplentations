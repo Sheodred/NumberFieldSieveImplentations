{
 "cells": [
  {
   "cell_type": "code",
   "execution_count": null,
   "metadata": {
    "vscode": {
     "languageId": "python"
    }
   },
   "outputs": [],
   "source": [
    "# Funktion zur Berechnung des ggT von zwei Zahlen a und b\n",
    "def gcd(a, b):\n",
    "    while b:\n",
    "        a, b = b, a % b\n",
    "    return a"
   ]
  },
  {
   "cell_type": "code",
   "execution_count": null,
   "metadata": {
    "vscode": {
     "languageId": "python"
    }
   },
   "outputs": [],
   "source": [
    "# Funktion zur Berechnung des Legendre-Symbols (a/p)\n",
    "def legendre(a, p):\n",
    "    if gcd(a, p) != 1:\n",
    "        return 0\n",
    "    else:\n",
    "        return pow(a, (p-1)//2, p)"
   ]
  },
  {
   "cell_type": "code",
   "execution_count": null,
   "metadata": {
    "vscode": {
     "languageId": "python"
    }
   },
   "outputs": [],
   "source": [
    "# Funktion zur Berechnung der Faktorisierung von n in einem Zahlkörper\n",
    "def number_field_sieve(n, B):\n",
    "    # Berechne die Größe des Faktorbasis-Vektors\n",
    "    m = ceil(sqrt(B))\n",
    "\n",
    "    # Generiere die Faktorbasis\n",
    "    primes = list(primes_first_n(B))\n",
    "    fb = matrix(ZZ, m, len(primes))\n",
    "    for i in range(m):\n",
    "        for j in range(len(primes)):\n",
    "            fb[i,j] = legendre(n % primes[j], primes[j])\n",
    "\n",
    "    # Finde eine glatte Linearkombination\n",
    "    A = random_matrix(ZZ, m, m, x=-B, y=B)\n",
    "    b = vector([legendre(n, primes[j]) for j in range(len(primes))])\n",
    "    x = LLL(A * fb.transpose()).solve_left(b)\n",
    "\n",
    "    # Überprüfe, ob die Linearkombination glatt ist\n",
    "    factors = []\n",
    "    for i in range(m):\n",
    "        if abs(x[i]) < B:\n",
    "            f = primes[i] ** x[i]\n",
    "            if n % f == 0:\n",
    "                factors.append(f)\n",
    "\n",
    "    # Wenn keine glatte Linearkombination gefunden wurde, versuche es erneut\n",
    "    if len(factors) == 0:\n",
    "        return number_field_sieve(n, B*2)\n",
    "\n",
    "    # Berechne die restlichen Faktoren durch Primfaktorzerlegung\n",
    "    for factor in factors:\n",
    "        n = n // factor\n",
    "    if n > 1:\n",
    "        factors.extend(factor_list(n))\n",
    "\n",
    "    return factors\n"
   ]
  }
 ],
 "metadata": {
  "kernelspec": {
   "display_name": "SageMath 9.5",
   "language": "sage",
   "name": "sagemath"
  },
  "language_info": {
   "name": "sage"
  },
  "orig_nbformat": 4
 },
 "nbformat": 4,
 "nbformat_minor": 2
}
