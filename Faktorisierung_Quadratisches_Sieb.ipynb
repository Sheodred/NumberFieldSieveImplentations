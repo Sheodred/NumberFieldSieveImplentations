{
 "cells": [
  {
   "cell_type": "code",
   "execution_count": 1,
   "metadata": {},
   "outputs": [],
   "source": [
    "def fermat_factor(N):\n",
    "    \"\"\"\n",
    "    Benutzt das Fermat'sches Faktorisierungs-Verfahren um positive Integer zu faktorisieren\n",
    "\n",
    "    Parameter:\n",
    "    - N: Der zu faktorisierende Integerwert\n",
    "\n",
    "    Rückgabe:\n",
    "    - ein Tupel (p, q) der Faktoren von N oder None bei negativen/ nicht Integer Werten\n",
    "    \"\"\"\n",
    "    # Prüft den Faktoren 2 und 5\n",
    "    if is_even(N):\n",
    "        return (2, N/2)\n",
    "    if mod(N,5)==0:\n",
    "        return (5,N/5)\n",
    "\n",
    "    \n",
    "    # Try to find a nontrivial square root of n\n",
    "    x0 = ceil(sqrt(N))\n",
    "    y_square = x0**2 - N\n",
    "\n",
    "    while not is_square(y_square):\n",
    "        x0 += 1\n",
    "        y_square = x0**2 - N\n",
    "        if x0>=N :\n",
    "            return (1,N)\n",
    "    \n",
    "    # Berechnet die Zerlegung in (x-y)(x+y)\n",
    "    p = x0 - sqrt(y_square)\n",
    "    q = x0 + sqrt(y_square)\n",
    "    return (p, q)\n"
   ]
  },
  {
   "cell_type": "code",
   "execution_count": 2,
   "metadata": {},
   "outputs": [
    {
     "name": "stdout",
     "output_type": "stream",
     "text": [
      "(269, 1487)\n"
     ]
    }
   ],
   "source": [
    "N=400003\n",
    "print(fermat_factor(N))"
   ]
  },
  {
   "cell_type": "code",
   "execution_count": 3,
   "metadata": {},
   "outputs": [],
   "source": [
    "def make_factorbase(N, len):\n",
    "    \"\"\"\n",
    "    Konstruiert eine Faktorbasis zur gegebenen Zahl N und Länge len\n",
    "\n",
    "    Parameter:\n",
    "    - N: Der zu faktorisierende Integerwert\n",
    "    - len: Die gefordete Länger der Faktorbasis\n",
    "\n",
    "    Rückgabe:\n",
    "    - Eine Liste der Länge len von Primzahlen, sodass qudratische Reste mit N entstehen \n",
    "    \"\"\"\n",
    "    fb = [-1,2]\n",
    "    p = 2\n",
    "    for k in range(len-2):\n",
    "        p = next_prime(p)\n",
    "        while legendre_symbol(N, p) != 1:\n",
    "            p = next_prime(p)\n",
    "        fb.append(p)\n",
    "    return fb\n"
   ]
  },
  {
   "cell_type": "code",
   "execution_count": 4,
   "metadata": {},
   "outputs": [
    {
     "data": {
      "text/plain": [
       "[-1, 2, 3, 7, 29, 31, 37, 43, 71, 73]"
      ]
     },
     "execution_count": 4,
     "metadata": {},
     "output_type": "execute_result"
    }
   ],
   "source": [
    "pvec=make_factorbase(N,10); pvec"
   ]
  },
  {
   "cell_type": "code",
   "execution_count": 5,
   "metadata": {},
   "outputs": [],
   "source": [
    "def rtpvec(N, pvec):\n",
    "    \"\"\"\n",
    "    Berechnet die Wurzel von N im p-Köper der p aus der Faktorbasis \n",
    "\n",
    "    Parameter:\n",
    "    - N: Integer dessen Wurzel berechnet wird\n",
    "    - pvec: Liste der Zahlen, die die Faktorbasis darstellen\n",
    "\n",
    "    Rückgabe:\n",
    "    - Eine Liste der Wurzel von N auf Basis der Faktorbasis\n",
    "    \"\"\"\n",
    "    rvec = [mod(N,p).sqrt() for p in pvec]\n",
    "    rvec[0]=rvec[1]=1\n",
    "    return rvec\n"
   ]
  },
  {
   "cell_type": "code",
   "execution_count": 6,
   "metadata": {},
   "outputs": [
    {
     "data": {
      "text/plain": [
       "[1, 1, 1, 3, 8, 14, 12, 19, 29, 6]"
      ]
     },
     "execution_count": 6,
     "metadata": {},
     "output_type": "execute_result"
    }
   ],
   "source": [
    "fb_rtpvec = rtpvec(N, pvec); fb_rtpvec"
   ]
  },
  {
   "cell_type": "code",
   "execution_count": 7,
   "metadata": {},
   "outputs": [],
   "source": [
    "class QuadPol:\n",
    "    \"\"\"\n",
    "    Klasse zum speichern der Werte Parameter des Polynoms ax^2 + bx + c.\n",
    "    \"\"\"\n",
    "    def __init__(self, a, b, c, q):\n",
    "        self.a = a\n",
    "        self.b = b\n",
    "        self.c = c\n",
    "        self.q = q\n",
    "    "
   ]
  },
  {
   "cell_type": "code",
   "execution_count": 52,
   "metadata": {},
   "outputs": [],
   "source": [
    "def Zp2_sqrt(p, n):\n",
    "    \"\"\"\n",
    "    Berechnet die Wurzel von N modulo p^2 nach: \n",
    "    Satz:   Für ungerade Primzahl p, n>=2 und a mit p teilt nicht a quadratischer Rest mod p\n",
    "            => Es gibt  eindeutige Zahl x mit\n",
    "        x^2 ≡ a mod p^n UND x ≡ x0 mod p.\n",
    "\n",
    "    Parameter:\n",
    "    - p: Primzahl\n",
    "    - n: Integer\n",
    "\n",
    "    Rückgabe:\n",
    "    - Die Wurzel von n modulo p^2\n",
    "    \"\"\"\n",
    "\n",
    "    x0 = mod(n, p).sqrt()\n",
    "    xi = inverse_mod(2*x0, p**2)\n",
    "    x = (x0**2 + n)*xi\n",
    "    return mod(x, p**2)"
   ]
  },
  {
   "cell_type": "code",
   "execution_count": 88,
   "metadata": {},
   "outputs": [],
   "source": [
    "def make_quadpol(N, q):\n",
    "    \"\"\"\n",
    "    Konstruiert zur Faktorisierung von N ein quadratisches Polynom ax^2 + bx + c \n",
    "\n",
    "    Parameter:\n",
    "    - N: Der zu faktorisierende Integerwert\n",
    "    - q: Ausgangswert der Suche nach der kleinsten Primzahl mit (N/q) = 1\n",
    "\n",
    "    Rückgabe:\n",
    "    - Ein QuadPol Objekt welches das Polynom ax^2 + bx + c repräsentiert\n",
    "    \"\"\"\n",
    "    q = next_prime((q-1))\n",
    "    while kronecker_symbol(N, q) != 1:\n",
    "        q = next_prime(q+1)\n",
    "    a = q**2\n",
    "    b = mod(N,a).sqrt()\n",
    "    c = (Integer(b)**2 - N) // a\n",
    "    return QuadPol(a,b,c,q)\n"
   ]
  },
  {
   "cell_type": "code",
   "execution_count": 87,
   "metadata": {},
   "outputs": [
    {
     "name": "stdout",
     "output_type": "stream",
     "text": [
      "-474\n",
      "<class 'sage.rings.integer.Integer'>\n",
      "q= 29\n",
      "a= 841\n",
      "b= 37\n",
      "c= -474\n"
     ]
    }
   ],
   "source": [
    "QP=make_quadpol(N,17)\n",
    "print(\"q=\",QP.q)\n",
    "print(\"a=\",QP.a)\n",
    "print(\"b=\",QP.b)\n",
    "print(\"c=\",QP.c)"
   ]
  }
 ],
 "metadata": {
  "kernelspec": {
   "display_name": "SageMath 9.5",
   "language": "sage",
   "name": "sagemath"
  },
  "language_info": {
   "codemirror_mode": {
    "name": "ipython",
    "version": 3
   },
   "file_extension": ".py",
   "mimetype": "text/x-python",
   "name": "python",
   "nbconvert_exporter": "python",
   "pygments_lexer": "ipython3",
   "version": "3.10.6"
  },
  "orig_nbformat": 4
 },
 "nbformat": 4,
 "nbformat_minor": 2
}
