{
 "cells": [
  {
   "attachments": {},
   "cell_type": "markdown",
   "metadata": {},
   "source": [
    "source: https://www.marcell-dietl.de/downloads/QuadratischesSieb.pdf#page=45&zoom=100,118,418"
   ]
  },
  {
   "cell_type": "code",
   "execution_count": 1,
   "metadata": {},
   "outputs": [],
   "source": [
    "from sage import all\n",
    "from itertools import islice, count\n"
   ]
  },
  {
   "cell_type": "code",
   "execution_count": 32,
   "metadata": {},
   "outputs": [
    {
     "name": "stdout",
     "output_type": "stream",
     "text": [
      "319087267863\n"
     ]
    }
   ],
   "source": [
    "number=178691*1785693\n",
    "print(number)"
   ]
  },
  {
   "cell_type": "code",
   "execution_count": 33,
   "metadata": {},
   "outputs": [
    {
     "name": "stdout",
     "output_type": "stream",
     "text": [
      "106\n"
     ]
    }
   ],
   "source": [
    "def calculate_boundary (number) :\n",
    "    return ceil(sqrt(exp(sqrt(log(number)*log(log(number))))))\n",
    "\n",
    "boundary = calculate_boundary(number)\n",
    "print(boundary)"
   ]
  },
  {
   "cell_type": "code",
   "execution_count": 34,
   "metadata": {},
   "outputs": [
    {
     "name": "stdout",
     "output_type": "stream",
     "text": [
      "[-1, 2, 11, 17, 43, 47, 53, 59, 73, 83, 97, 101, 103]\n"
     ]
    }
   ],
   "source": [
    "def generate_factor_base (number , boundary ):\n",
    "    factor_base=[-1,2]\n",
    "\n",
    "    for prime in prime_range(3,boundary):\n",
    "        if legendre_symbol(number, prime)==1:\n",
    "            factor_base.append(prime)\n",
    "    return factor_base\n",
    "\n",
    "factor_base =generate_factor_base(number, boundary)\n",
    "print(factor_base)\n"
   ]
  },
  {
   "cell_type": "code",
   "execution_count": 38,
   "metadata": {},
   "outputs": [
    {
     "name": "stdout",
     "output_type": "stream",
     "text": [
      "[1, 16]\n",
      "4.0000\n"
     ]
    },
    {
     "ename": "IndexError",
     "evalue": "list index out of range",
     "output_type": "error",
     "traceback": [
      "\u001b[0;31m---------------------------------------------------------------------------\u001b[0m",
      "\u001b[0;31mIndexError\u001b[0m                                Traceback (most recent call last)",
      "\u001b[0;32m/tmp/ipykernel_17580/1279317461.py\u001b[0m in \u001b[0;36m<module>\u001b[0;34m\u001b[0m\n\u001b[1;32m     14\u001b[0m     \u001b[0;32mreturn\u001b[0m \u001b[0mreduce\u001b[0m\u001b[0;34m(\u001b[0m\u001b[0;32mlambda\u001b[0m \u001b[0mx\u001b[0m \u001b[0;34m,\u001b[0m \u001b[0my\u001b[0m \u001b[0;34m:\u001b[0m \u001b[0mx\u001b[0m \u001b[0;34m+\u001b[0m \u001b[0my\u001b[0m \u001b[0;34m,\u001b[0m \u001b[0msieved_array\u001b[0m \u001b[0;34m)\u001b[0m\u001b[0;34m\u001b[0m\u001b[0;34m\u001b[0m\u001b[0m\n\u001b[1;32m     15\u001b[0m \u001b[0;34m\u001b[0m\u001b[0m\n\u001b[0;32m---> 16\u001b[0;31m \u001b[0msieved_array\u001b[0m\u001b[0;34m=\u001b[0m\u001b[0msieve\u001b[0m\u001b[0;34m(\u001b[0m\u001b[0mnumber\u001b[0m\u001b[0;34m,\u001b[0m \u001b[0mboundary\u001b[0m\u001b[0;34m,\u001b[0m \u001b[0mfactor_base\u001b[0m\u001b[0;34m)\u001b[0m\u001b[0;34m\u001b[0m\u001b[0;34m\u001b[0m\u001b[0m\n\u001b[0m\u001b[1;32m     17\u001b[0m \u001b[0mprint\u001b[0m\u001b[0;34m(\u001b[0m\u001b[0msieved_array\u001b[0m\u001b[0;34m)\u001b[0m\u001b[0;34m\u001b[0m\u001b[0;34m\u001b[0m\u001b[0m\n",
      "\u001b[0;32m/tmp/ipykernel_17580/1279317461.py\u001b[0m in \u001b[0;36msieve\u001b[0;34m(number, boundary, factor_base, number_of_intervals)\u001b[0m\n\u001b[1;32m     11\u001b[0m         \u001b[0mstart_point\u001b[0m \u001b[0;34m=\u001b[0m \u001b[0mend_point\u001b[0m \u001b[0;34m+\u001b[0m \u001b[0mInteger\u001b[0m\u001b[0;34m(\u001b[0m\u001b[0;36m1\u001b[0m\u001b[0;34m)\u001b[0m\u001b[0;34m\u001b[0m\u001b[0;34m\u001b[0m\u001b[0m\n\u001b[1;32m     12\u001b[0m         \u001b[0mend_point\u001b[0m \u001b[0;34m=\u001b[0m \u001b[0mstart_point\u001b[0m \u001b[0;34m+\u001b[0m \u001b[0minterval_length\u001b[0m\u001b[0;34m\u001b[0m\u001b[0;34m\u001b[0m\u001b[0m\n\u001b[0;32m---> 13\u001b[0;31m         \u001b[0msieved_array\u001b[0m\u001b[0;34m.\u001b[0m\u001b[0mappend\u001b[0m\u001b[0;34m(\u001b[0m \u001b[0m__sieve_interval\u001b[0m\u001b[0;34m(\u001b[0m\u001b[0mnumber\u001b[0m\u001b[0;34m,\u001b[0m \u001b[0mfactor_base\u001b[0m\u001b[0;34m,\u001b[0m\u001b[0mstart_point\u001b[0m\u001b[0;34m,\u001b[0m \u001b[0mend_point\u001b[0m\u001b[0;34m,\u001b[0m \u001b[0mthreshold\u001b[0m\u001b[0;34m)\u001b[0m\u001b[0;34m)\u001b[0m\u001b[0;34m\u001b[0m\u001b[0;34m\u001b[0m\u001b[0m\n\u001b[0m\u001b[1;32m     14\u001b[0m     \u001b[0;32mreturn\u001b[0m \u001b[0mreduce\u001b[0m\u001b[0;34m(\u001b[0m\u001b[0;32mlambda\u001b[0m \u001b[0mx\u001b[0m \u001b[0;34m,\u001b[0m \u001b[0my\u001b[0m \u001b[0;34m:\u001b[0m \u001b[0mx\u001b[0m \u001b[0;34m+\u001b[0m \u001b[0my\u001b[0m \u001b[0;34m,\u001b[0m \u001b[0msieved_array\u001b[0m \u001b[0;34m)\u001b[0m\u001b[0;34m\u001b[0m\u001b[0;34m\u001b[0m\u001b[0m\n\u001b[1;32m     15\u001b[0m \u001b[0;34m\u001b[0m\u001b[0m\n",
      "\u001b[0;32m/tmp/ipykernel_17580/1583472013.py\u001b[0m in \u001b[0;36m__sieve_interval\u001b[0;34m(number, factor_base, start_point, end_point, threshold)\u001b[0m\n\u001b[1;32m     19\u001b[0m             \u001b[0;32mif\u001b[0m \u001b[0;34m(\u001b[0m \u001b[0mstart_point\u001b[0m \u001b[0;34m+\u001b[0m \u001b[0mindex\u001b[0m \u001b[0;34m)\u001b[0m\u001b[0;34m%\u001b[0m\u001b[0mprime\u001b[0m \u001b[0;34m==\u001b[0m \u001b[0msquare_roots\u001b[0m \u001b[0;34m[\u001b[0m \u001b[0mInteger\u001b[0m\u001b[0;34m(\u001b[0m\u001b[0;36m1\u001b[0m\u001b[0;34m)\u001b[0m \u001b[0;34m]\u001b[0m \u001b[0;34m:\u001b[0m\u001b[0;34m\u001b[0m\u001b[0;34m\u001b[0m\u001b[0m\n\u001b[1;32m     20\u001b[0m                 \u001b[0;32mfor\u001b[0m \u001b[0mmultiple\u001b[0m \u001b[0;32min\u001b[0m \u001b[0mislice\u001b[0m\u001b[0;34m(\u001b[0m \u001b[0mcount\u001b[0m \u001b[0;34m(\u001b[0m \u001b[0mindex\u001b[0m \u001b[0;34m,\u001b[0m \u001b[0mprime\u001b[0m \u001b[0;34m)\u001b[0m \u001b[0;34m,\u001b[0m\u001b[0;34m(\u001b[0m \u001b[0msieving_array_length\u001b[0m \u001b[0;34m-\u001b[0m \u001b[0mindex\u001b[0m \u001b[0;34m+\u001b[0m \u001b[0mprime\u001b[0m \u001b[0;34m-\u001b[0m \u001b[0mInteger\u001b[0m\u001b[0;34m(\u001b[0m\u001b[0;36m1\u001b[0m\u001b[0;34m)\u001b[0m\u001b[0;34m)\u001b[0m \u001b[0;34m//\u001b[0m\u001b[0mprime\u001b[0m \u001b[0;34m)\u001b[0m \u001b[0;34m:\u001b[0m\u001b[0;34m\u001b[0m\u001b[0;34m\u001b[0m\u001b[0m\n\u001b[0;32m---> 21\u001b[0;31m                     \u001b[0mlogarithms\u001b[0m \u001b[0;34m[\u001b[0m \u001b[0mmultiple\u001b[0m \u001b[0;34m]\u001b[0m \u001b[0;34m+=\u001b[0m \u001b[0mlogarithm\u001b[0m\u001b[0;34m\u001b[0m\u001b[0;34m\u001b[0m\u001b[0m\n\u001b[0m\u001b[1;32m     22\u001b[0m                 \u001b[0mfound\u001b[0m \u001b[0;34m+=\u001b[0m \u001b[0mInteger\u001b[0m\u001b[0;34m(\u001b[0m\u001b[0;36m1\u001b[0m\u001b[0;34m)\u001b[0m\u001b[0;34m\u001b[0m\u001b[0;34m\u001b[0m\u001b[0m\n\u001b[1;32m     23\u001b[0m \u001b[0;34m\u001b[0m\u001b[0m\n",
      "\u001b[0;31mIndexError\u001b[0m: list index out of range"
     ]
    }
   ],
   "source": [
    "def sieve(number, boundary, factor_base, number_of_intervals = 1):\n",
    "    start_point = ceil(sqrt(number))-(boundary**2) //2\n",
    "    end_point = start_point+2*(boundary**2)//2\n",
    "\n",
    "    threshold = ceil(log((start_point+((end_point - start_point)//5)*3)**2 - number, 2) ) - 30\n",
    "\n",
    "    sieved_array = []\n",
    "    interval_length = ( end_point - start_point ) // number_of_intervals\n",
    "    end_point = start_point - 1\n",
    "    for interval in islice(count(0), number_of_intervals ) :\n",
    "        start_point = end_point + 1\n",
    "        end_point = start_point + interval_length\n",
    "        sieved_array.append( __sieve_interval(number, factor_base,start_point, end_point, threshold))\n",
    "    return reduce(lambda x , y : x + y , sieved_array )\n",
    "\n",
    "sieved_array=sieve(number, boundary, factor_base)\n",
    "print(sieved_array)"
   ]
  },
  {
   "cell_type": "code",
   "execution_count": 36,
   "metadata": {},
   "outputs": [],
   "source": [
    "def __sieve_interval (number , factor_base , start_point , end_point , threshold ) :\n",
    "    \n",
    "    sieving_array_length = end_point - start_point + 1\n",
    "    logarithms=[]\n",
    "\n",
    "    for prime in factor_base[3:]:\n",
    "        square_roots = mod(number , prime ).sqrt( all = True )\n",
    "        print(square_roots)\n",
    "        found = 0\n",
    "        logarithm = round( log ( prime , 2) ).n(digits=5)\n",
    "        print(logarithm)\n",
    "\n",
    "        for index in islice( count (0) , prime ) : \n",
    "            if ( start_point + index )%prime == square_roots [ 0 ] :\n",
    "                for multiple in islice( count ( index , prime ) , ( sieving_array_length - index + prime - 1) //prime ) :\n",
    "                    logarithms [ multiple ] += logarithm\n",
    "                found += 1\n",
    "\n",
    "            if ( start_point + index )%prime == square_roots [ 1 ] :\n",
    "                for multiple in islice( count ( index , prime ) ,( sieving_array_length - index + prime - 1) //prime ) :\n",
    "                    logarithms [ multiple ] += logarithm\n",
    "                found += 1\n",
    "\n",
    "            if found == 2: break\n",
    "\n",
    "    sieved_array = [ ]\n",
    "    for index in islice( count (0) , sieving_array_length ):\n",
    "\n",
    "        if logarithms[index] >= threshold :\n",
    "            composite = ( start_point + index ) **2 - number\n",
    "            factorization = [ ]\n",
    "            if composite < 0:\n",
    "                composite *= -1\n",
    "                factorization.append(-1)\n",
    "            for prime in factor_base [1:] :\n",
    "                while composite%prime == 0:\n",
    "                    composite /= prime\n",
    "                    factorization.append ( prime )\n",
    "            if composite == 1:\n",
    "                sieved_array.append ( [ start_point + index , factorization ] )\n",
    "    return sieved_array"
   ]
  },
  {
   "cell_type": "code",
   "execution_count": 8,
   "metadata": {},
   "outputs": [],
   "source": [
    "def generate_matrix ( exponent_vectors ):\n",
    "    return matrix (GF(2) , exponent_vectors ).kernel().basis()"
   ]
  },
  {
   "cell_type": "code",
   "execution_count": 9,
   "metadata": {},
   "outputs": [],
   "source": [
    "def factorize(number , sieved_array , matrix ) :\n",
    "    for row in matrix :\n",
    "        x = [ ]\n",
    "        y = [ ]\n",
    "        for index in islice( count (0) , len (row) ) :\n",
    "            if row [ index ] == 1:\n",
    "                x.append( sieved_array [ index ] [ 0 ] )\n",
    "                y.append( sieved_array [ index ] [ 1 ] ) \n",
    "        y = sorted( reduce(lambda x , y : x + y , y) ) [ : : 2 ]\n",
    "        y = reduce(lambda i , j : i *j , y)\n",
    "        x = reduce(lambda i , j : i *j , x)\n",
    "        factor = gcd (( x%number) - (y%number) , number)\n",
    "        if ( factor != 1) and ( factor != number) :\n",
    "            return [ factor , number/ factor ]\n",
    "    return [ ]"
   ]
  },
  {
   "cell_type": "markdown",
   "metadata": {},
   "source": []
  }
 ],
 "metadata": {
  "kernelspec": {
   "display_name": "SageMath 9.5",
   "language": "sage",
   "name": "sagemath"
  },
  "language_info": {
   "codemirror_mode": {
    "name": "ipython",
    "version": 3
   },
   "file_extension": ".py",
   "mimetype": "text/x-python",
   "name": "python",
   "nbconvert_exporter": "python",
   "pygments_lexer": "ipython3",
   "version": "3.10.6"
  },
  "orig_nbformat": 4
 },
 "nbformat": 4,
 "nbformat_minor": 2
}
